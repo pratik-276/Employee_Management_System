{
 "cells": [
  {
   "cell_type": "code",
   "execution_count": null,
   "metadata": {},
   "outputs": [],
   "source": []
  },
  {
   "cell_type": "code",
   "execution_count": 1,
   "metadata": {},
   "outputs": [],
   "source": [
    "import pandas as pd\n",
    "import csv"
   ]
  },
  {
   "cell_type": "code",
   "execution_count": 2,
   "metadata": {},
   "outputs": [
    {
     "name": "stdout",
     "output_type": "stream",
     "text": [
      "\t\t\t\t\tWelcome to the Employee Management System(EMS)\n",
      "\n",
      "\n",
      "\tThe EMS helps one to go through the details of each and every employee and see the list of working employees. \n",
      "\t\tThis management portal also helps one to add new employees to the list in case of recruitment. \n",
      "\n",
      "\n",
      "Various functions of EMS are listed below:-\n",
      "\n",
      "\n",
      "1. Check the list of all employees working in the company with less details.\n",
      "\n",
      "\n",
      "2. Search the details of an employee.\n",
      "\n",
      "\n",
      "3. Add a new employee to existing list.\n",
      "\n",
      "\n"
     ]
    }
   ],
   "source": [
    "print(\"\\t\\t\\t\\t\\tWelcome to the Employee Management System(EMS)\\n\\n\")\n",
    "print(\"\\tThe EMS helps one to go through the details of each and every employee and see the list of working employees. \")\n",
    "print(\"\\t\\tThis management portal also helps one to add new employees to the list in case of recruitment. \\n\\n\")\n",
    "print(\"Various functions of EMS are listed below:-\\n\\n\")\n",
    "print(\"1. Check the list of all employees working in the company with less details.\\n\\n\")\n",
    "print(\"2. Search the details of an employee.\\n\\n\")\n",
    "print(\"3. Add a new employee to existing list.\\n\\n\") "
   ]
  },
  {
   "cell_type": "code",
   "execution_count": null,
   "metadata": {},
   "outputs": [],
   "source": []
  },
  {
   "cell_type": "code",
   "execution_count": null,
   "metadata": {
    "scrolled": true
   },
   "outputs": [],
   "source": [
    "num = int(input(\"What do you want to do?\\n\"))\n",
    "if(num==1):\n",
    "    df = pd.read_csv(\"employee_list2.csv\")\n",
    "    print(df.head(103))\n",
    "l1 = []\n",
    "if(num==2):\n",
    "    id = input(\"Enter the id of the employee you want to search:  \")\n",
    "    flag = 0\n",
    "    with open(\"employee_list1.csv\",\"r\") as f:\n",
    "        for i in range(102):\n",
    "            file_data = f.readline()\n",
    "            file = list(file_data.split(','))\n",
    "            l1.append(file)\n",
    "        for i in range(102):\n",
    "            if(l1[i][0]==id):\n",
    "                for j in range(17):\n",
    "                    print(l1[0][j] + \" -> \" + l1[i][j],end='\\n')\n",
    "                flag = 1\n",
    "        if(flag!=1):\n",
    "            print(\"Employee details not found\")\n",
    "        f.close()\n",
    "l2 = []\n",
    "l3 = []\n",
    "if(num==3):\n",
    "    l2.append(int(input(\"Enter the Employee id \")))\n",
    "    l2.append(input(\"Enter first name of employee \"))\n",
    "    l2.append(input(\"Enter last name of employee \"))\n",
    "    l2.append(input(\"Enter gender of employee \"))\n",
    "    l2.append(input(\"Enter e-mail of employee \"))\n",
    "    l2.append(input(\"Enter father's name of employee \"))\n",
    "    l2.append(int(input(\"Enter age of employee \")))\n",
    "    l2.append(int(input(\"Enter weight of employee \")))\n",
    "    l2.append(int(input(\"Enter year of joining of employee \")))\n",
    "    l2.append(input(\"Enter month of joining of employee \"))\n",
    "    l2.append(int(input(\"Enter date of joining of employee \")))\n",
    "    l2.append(int(input(\"Enter age in company of employee \")))\n",
    "    l2.append(int(input(\"Enter salary of employee \")))\n",
    "    l2.append(int(input(\"Enter last % hike of employee \")))\n",
    "    l2.append(int(input(\"Enter phone number of employee \")))\n",
    "    l2.append(input(\"Enter country of employee \"))\n",
    "    l2.append(input(\"Enter city of employee \"))\n",
    "    \n",
    "    l3.append(l2[0])\n",
    "    l3.append(l2[1]) \n",
    "    l3.append(l2[2]) \n",
    "    l3.append(l2[4]) \n",
    "    l3.append(l2[12])\n",
    "    with open(r'employee_list1.csv', 'a',newline='') as f:\n",
    "        writer = csv.writer(f)\n",
    "        writer.writerow(l2)\n",
    "        f.close()\n",
    "    with open(r'employee_list2.csv', 'a',newline='') as f:\n",
    "        writer = csv.writer(f)\n",
    "        writer.writerow(l3)\n",
    "        f.close()"
   ]
  },
  {
   "cell_type": "code",
   "execution_count": 41,
   "metadata": {},
   "outputs": [],
   "source": []
  },
  {
   "cell_type": "code",
   "execution_count": null,
   "metadata": {},
   "outputs": [],
   "source": []
  }
 ],
 "metadata": {
  "kernelspec": {
   "display_name": "Python 3",
   "language": "python",
   "name": "python3"
  },
  "language_info": {
   "codemirror_mode": {
    "name": "ipython",
    "version": 3
   },
   "file_extension": ".py",
   "mimetype": "text/x-python",
   "name": "python",
   "nbconvert_exporter": "python",
   "pygments_lexer": "ipython3",
   "version": "3.7.1"
  }
 },
 "nbformat": 4,
 "nbformat_minor": 2
}
